{
 "cells": [
  {
   "cell_type": "markdown",
   "metadata": {},
   "source": [
    "# Homework 2: Classification and Clustering\n",
    "\n",
    "Q1: 20 pts\n",
    "\n",
    "Q2: 20 pts\n",
    "\n",
    "Q3: 30 pts\n",
    "\n",
    "Q4: 30 pts\n",
    "\n",
    "Q5: 65 pts\n",
    "\n",
    "Q6: 2 pts (administrative)\n",
    "\n",
    "Total: 167 pts"
   ]
  },
  {
   "cell_type": "code",
   "execution_count": 2,
   "metadata": {},
   "outputs": [],
   "source": [
    "import warnings\n",
    "import numpy as np\n",
    "import matplotlib.pyplot as plt\n",
    "\n",
    "warnings.filterwarnings('error')"
   ]
  },
  {
   "cell_type": "markdown",
   "metadata": {},
   "source": [
    "Below, we provide starter code for this assignment. Explanations and documentation are provided as these elements are invoked throughout this notebook. **Please do not edit this starter code**. \n",
    "\n",
    "* ``gauss_pm`` and ``poiss_pm``: objects for storing model parameters.\n",
    "\n",
    "* ``pklload``: function that loads pickle files."
   ]
  },
  {
   "cell_type": "code",
   "execution_count": 4,
   "metadata": {},
   "outputs": [],
   "source": [
    "import os\n",
    "import pickle\n",
    "from collections import namedtuple\n",
    "\n",
    "# gauss_pm: stores parameters for Gaussian classification models.\n",
    "# Once created, you can call each parameter by calling instance.parameter.\n",
    "# E.g. ``gauss_pm_instance.mu``.\n",
    "gauss_pm = namedtuple(\n",
    "    \"gauss_pm\",\n",
    "    [\n",
    "        \"pi\",    # prior probabilities for each class\n",
    "        \"mu\",    # class-conditional mean parameters\n",
    "        \"sigma\", # class-conditional covariance parameters\n",
    "        \"acc\",   # classification accuracy\n",
    "        \"mesg\",  # students may ignore this\n",
    "    ],\n",
    ")\n",
    "\n",
    "# poiss_pm: stores parameters for Poisson classification models.\n",
    "poiss_pm = namedtuple(\n",
    "    \"poiss_pm\",\n",
    "    [\n",
    "        \"pi\",   # prior probabilities for each class\n",
    "        \"lam\",  # rate parameter, \\lambda\n",
    "        \"acc\",  # classification accuracy\n",
    "        \"mesg\", # students may ignore this\n",
    "    ],\n",
    ")\n",
    "\n",
    "def pklload(*args) -> dict:\n",
    "    \"\"\" Load pkl files.\n",
    "    \n",
    "    Args:\n",
    "        *args: the folder path leading to the pkl file, in order\n",
    "\n",
    "    Returns:\n",
    "        data (dict): dictionary containing the data\n",
    "    \"\"\"\n",
    "    f = open(os.path.join(*args), \"rb\")\n",
    "    data = pickle.load(f)\n",
    "    f.close()\n",
    "    return data"
   ]
  },
  {
   "cell_type": "markdown",
   "metadata": {},
   "source": [
    "## Question 3: Simulated Data (30 pts)\n",
    "\n",
    "For Question 3, execute the block below, then scroll down and start from the code block **\"Question 3(a-e)\"**, and follow instructions from there."
   ]
  },
  {
   "cell_type": "code",
   "execution_count": 5,
   "metadata": {},
   "outputs": [],
   "source": [
    "# Load data\n",
    "\n",
    "data = np.load(\"./HW2_data/sim_data.npy\")\n",
    "n_classes, n_trials, n_neurons = data.shape\n",
    "\n",
    "# For saving model parameters, key: (problem set number, model number)\n",
    "mdl_params = {}"
   ]
  },
  {
   "cell_type": "markdown",
   "metadata": {},
   "source": [
    "### Question 3(b): Find Maximum-Likelihood Model Parameters\n",
    "\n",
    "Fill in the functions for training the parameters for models (i)-(iii), then execute the blocks."
   ]
  },
  {
   "cell_type": "code",
   "execution_count": 13,
   "metadata": {},
   "outputs": [],
   "source": [
    "def train_gaussian_shared_cov(data: np.ndarray, n_classes: int, n_trials: int, n_neurons: int) -> tuple:\n",
    "    \"\"\"Estimate parameters for model (i): Gaussian with shared covariance across classes.\n",
    "\n",
    "    Args:\n",
    "        data (np.ndarray): Training data, shape (n_classes, n_trials, n_neurons).\n",
    "        n_classes (int): Number of stimulus classes.\n",
    "        n_trials (int): Number of trials per class.\n",
    "        n_neurons (int): Number of recorded neurons (features).\n",
    "\n",
    "    Returns:\n",
    "        tuple:\n",
    "            pi (np.ndarray): Class priors, shape (n_classes,).\n",
    "            mu (np.ndarray): Class means, shape (n_classes, n_neurons).\n",
    "            sigma (np.ndarray): Shared covariance matrix replicated for each class,\n",
    "                                shape (n_classes, n_neurons, n_neurons).\n",
    "    \"\"\"\n",
    "    # ----- YOUR CODE HERE ----- #\n",
    "\n",
    "    # IMPORTANT: Ensure that sigma has the shape specified above, ensuring that the same shared\n",
    "    # covariance matrix is used to model each of the classes. \n",
    "    \n",
    "    pi = np.zeros(n_classes)\n",
    "    mu = np.zeros((n_classes, n_neurons))\n",
    "    sigma = np.zeros((n_classes, n_neurons, n_neurons))\n",
    "\n",
    "    S_k = np.zeros((n_classes, n_neurons, n_neurons))\n",
    "\n",
    "    N = n_classes * n_trials\n",
    "\n",
    "    for k in range(n_classes):\n",
    "        class_data = data[k]\n",
    "        N_k = n_trials \n",
    "\n",
    "        pi[k] = N_k / N\n",
    "\n",
    "        mu[k] = np.mean(class_data, axis=0)\n",
    "\n",
    "        S_k[k] = ((class_data - mu[k]).T @ (class_data - mu[k])) / N_k\n",
    "    \n",
    "    sigma_shared = sum(pi[k] * S_k[k] for k in range(n_classes))\n",
    "    sigma = np.tile(sigma_shared, (n_classes, 1, 1))\n",
    "\n",
    "    # -------------------------- #\n",
    "\n",
    "    # --- SHAPE CHECKS ---\n",
    "    assert pi.shape == (n_classes,), f\"Expected pi shape {(n_classes,)}, got {pi.shape}\"\n",
    "    assert mu.shape == (n_classes, n_neurons), f\"Expected mu shape {(n_classes, n_neurons)}, got {mu.shape}\"\n",
    "    assert sigma.shape == (n_classes, n_neurons, n_neurons), \\\n",
    "        f\"Expected sigma shape {(n_classes, n_neurons, n_neurons)}, got {sigma.shape}\"\n",
    "\n",
    "    return pi, mu, sigma\n",
    "\n",
    "pi, mu, sigma = train_gaussian_shared_cov(data, n_classes, n_trials, n_neurons)\n",
    "mdl_params[(3, 0)] = gauss_pm(pi=pi, mu=mu, sigma=sigma, acc=None, mesg=None)"
   ]
  },
  {
   "cell_type": "code",
   "execution_count": 15,
   "metadata": {},
   "outputs": [],
   "source": [
    "def train_gaussian_class_cov(data: np.ndarray, n_classes: int, n_trials: int, n_neurons: int) -> tuple:\n",
    "    \"\"\"Estimate parameters for model (ii): Gaussian with class-specific covariance matrices.\n",
    "\n",
    "    Args:\n",
    "        data (np.ndarray): Training data, shape (n_classes, n_trials, n_neurons).\n",
    "        n_classes (int): Number of stimulus classes.\n",
    "        n_trials (int): Number of trials per class.\n",
    "        n_neurons (int): Number of recorded neurons (features).\n",
    "\n",
    "    Returns:\n",
    "        tuple:\n",
    "            pi (np.ndarray): Class priors, shape (n_classes,).\n",
    "            mu (np.ndarray): Class means, shape (n_classes, n_neurons).\n",
    "            sigma (np.ndarray): Class-specific covariance matrices,\n",
    "                                shape (n_classes, n_neurons, n_neurons).\n",
    "    \"\"\"\n",
    "    # ----- YOUR CODE HERE ----- #\n",
    "\n",
    "    pi = np.zeros(n_classes)\n",
    "    mu = np.zeros((n_classes, n_neurons))\n",
    "    sigma = np.zeros((n_classes, n_neurons, n_neurons))\n",
    "\n",
    "    N = n_classes * n_trials\n",
    "\n",
    "    for k in range(n_classes):\n",
    "        class_data = data[k]\n",
    "        N_k = n_trials \n",
    "\n",
    "        pi[k] = N_k / N\n",
    "\n",
    "        mu[k] = np.mean(class_data, axis=0)\n",
    "\n",
    "        sigma[k] = ((class_data - mu[k]).T @ (class_data - mu[k])) / N_k\n",
    "    \n",
    "\n",
    "    # -------------------------- #\n",
    "\n",
    "    # --- SHAPE CHECKS ---\n",
    "    assert pi.shape == (n_classes,), f\"Expected pi shape {(n_classes,)}, got {pi.shape}\"\n",
    "    assert mu.shape == (n_classes, n_neurons), f\"Expected mu shape {(n_classes, n_neurons)}, got {mu.shape}\"\n",
    "    assert sigma.shape == (n_classes, n_neurons, n_neurons), \\\n",
    "        f\"Expected sigma shape {(n_classes, n_neurons, n_neurons)}, got {sigma.shape}\"\n",
    "\n",
    "    return pi, mu, sigma\n",
    "\n",
    "pi, mu, sigma = train_gaussian_class_cov(data, n_classes, n_trials, n_neurons)\n",
    "mdl_params[(3, 1)] = gauss_pm(pi=pi, mu=mu, sigma=sigma, acc=None, mesg=None)"
   ]
  },
  {
   "cell_type": "code",
   "execution_count": 16,
   "metadata": {},
   "outputs": [],
   "source": [
    "def train_poisson(data: np.ndarray, n_classes: int, n_trials: int, n_neurons: int) -> tuple:\n",
    "    \"\"\"Estimate parameters for model (iii): Poisson.\n",
    "\n",
    "    Args:\n",
    "        data (np.ndarray): Input data, shape (n_classes, n_trials, n_neurons).\n",
    "        n_classes (int): Number of stimulus classes.\n",
    "        n_trials (int): Number of trials per class.\n",
    "        n_neurons (int): Number of recorded neurons (dimensions).\n",
    "\n",
    "    Returns:\n",
    "        tuple:\n",
    "            pi (np.ndarray): Class priors, shape (n_classes,).\n",
    "            lam (np.ndarray): Class-specific Poisson rate parameters,\n",
    "                              shape (n_classes, n_neurons).\n",
    "    \"\"\"\n",
    "    # ----- YOUR CODE HERE ----- #\n",
    "\n",
    "    pi = np.zeros(n_classes)\n",
    "    lam = np.zeros((n_classes, n_neurons))\n",
    "\n",
    "    N = n_classes * n_trials\n",
    "\n",
    "    for k in range(n_classes):\n",
    "        class_data = data[k]\n",
    "        N_k = n_trials \n",
    "\n",
    "        pi[k] = N_k / N\n",
    "\n",
    "        lam[k] = np.mean(class_data, axis=0)\n",
    "\n",
    "    # -------------------------- #\n",
    "\n",
    "    # --- SHAPE CHECKS ---\n",
    "    assert pi.shape == (n_classes,), f\"Expected pi shape {(n_classes,)}, got {pi.shape}\"\n",
    "    assert lam.shape == (n_classes, n_neurons), f\"Expected lam shape {(n_classes, n_neurons)}, got {lam.shape}\"\n",
    "\n",
    "    return pi, lam\n",
    "\n",
    "pi, lam = train_poisson(data, n_classes, n_trials, n_neurons)\n",
    "mdl_params[(3, 2)] = poiss_pm(pi=pi, lam=lam, acc=None, mesg=None)"
   ]
  },
  {
   "cell_type": "markdown",
   "metadata": {},
   "source": [
    "### Question 3(d): Gaussian PDF\n",
    "\n",
    "Fill in the function for calculating the probability density function for a Gaussian variable, then excute the block."
   ]
  },
  {
   "cell_type": "code",
   "execution_count": 8,
   "metadata": {},
   "outputs": [],
   "source": [
    "def gaussian_pdf(data: np.ndarray, mu: np.ndarray, sigma: np.ndarray) -> np.ndarray:\n",
    "    \"\"\"Compute the probability density function (PDF) of a multivariate Gaussian distribution.\n",
    "\n",
    "    Args:\n",
    "        data (np.ndarray): Input data points, shape (n_points, n_dims).\n",
    "        mu (np.ndarray): Mean vector of the distribution, shape (n_dims,).\n",
    "        sigma (np.ndarray): Covariance matrix of the distribution, shape (n_dims, n_dims).\n",
    "\n",
    "    Returns:\n",
    "        pdf (np.ndarray): PDF values evaluated at each input point, shape (n_points,).\n",
    "    \"\"\"\n",
    "    \n",
    "    n_points, n_dims = data.shape\n",
    "    \n",
    "    # ----- YOUR CODE HERE ----- #\n",
    "    \n",
    "    raise NotImplementedError\n",
    "    \n",
    "    # -------------------------- #\n",
    "    \n",
    "    assert pdf.shape == (n_points,), f\"Expected pdf shape {(n_points,)}, but got {pdf.shape}\"\n"
   ]
  },
  {
   "cell_type": "markdown",
   "metadata": {},
   "source": [
    "### Question 3(e): Decision Boundary\n",
    "\n",
    "Complete the functions for calculating the loglikelihood and decision boundary of the Gaussian and Poisson models, then execute the block."
   ]
  },
  {
   "cell_type": "code",
   "execution_count": null,
   "metadata": {},
   "outputs": [],
   "source": [
    "def loglikelihood_gaussian(data: np.ndarray, pi: np.ndarray, mu: np.ndarray, sigma: np.ndarray) -> np.ndarray:\n",
    "    \"\"\"Compute the log-likelihood of each data point under a multivariate Gaussian model.\n",
    "\n",
    "    Args:\n",
    "        data (np.ndarray): Data points, shape (n_samples, n_neurons).\n",
    "        pi (np.ndarray): Class priors, shape (n_classes,).\n",
    "        mu (np.ndarray): Class means, shape (n_classes, n_neurons).\n",
    "        sigma (np.ndarray): Class covariance matrices, shape (n_classes, n_neurons, n_neurons).\n",
    "\n",
    "    Returns:\n",
    "        np.ndarray: Log-likelihood for each data point and class, shape (n_samples, n_classes).\n",
    "    \"\"\"\n",
    "    # ----- YOUR CODE HERE ----- #\n",
    "\n",
    "    raise NotImplementedError\n",
    "\n",
    "    # -------------------------- #\n",
    "\n",
    "\n",
    "def decision_boundary_gaussian(data: np.ndarray, pi: np.ndarray, mu: np.ndarray, sigma: np.ndarray) -> np.ndarray:\n",
    "    \"\"\"Classify each data point using the Gaussian model with MAP decision rule.\n",
    "\n",
    "    Args:\n",
    "        data (np.ndarray): Data points, shape (n_samples, n_neurons).\n",
    "        pi (np.ndarray): Class priors, shape (n_classes,).\n",
    "        mu (np.ndarray): Class means, shape (n_classes, n_neurons).\n",
    "        sigma (np.ndarray): Class covariance matrices, shape (n_classes, n_neurons, n_neurons).\n",
    "\n",
    "    Returns:\n",
    "        np.ndarray: Predicted class labels, shape (n_samples,).\n",
    "    \"\"\"\n",
    "    # ----- YOUR CODE HERE ----- #\n",
    "\n",
    "    raise NotImplementedError\n",
    "\n",
    "    # -------------------------- #\n",
    "\n",
    "\n",
    "def loglikelihood_poisson(data: np.ndarray, pi: np.ndarray, lam: np.ndarray) -> np.ndarray:\n",
    "    \"\"\"Compute the log-likelihood of each data point under a multivariate Poisson model.\n",
    "\n",
    "    Args:\n",
    "        data (np.ndarray): Data points, shape (n_samples, n_neurons).\n",
    "        pi (np.ndarray): Class priors, shape (n_classes,).\n",
    "        lam (np.ndarray): Class-specific Poisson rate parameters, shape (n_classes, n_neurons).\n",
    "\n",
    "    Returns:\n",
    "        np.ndarray: Log-likelihood for each data point and class, shape (n_samples, n_classes).\n",
    "    \"\"\"\n",
    "    # ----- YOUR CODE HERE ----- #\n",
    "\n",
    "    raise NotImplementedError\n",
    "\n",
    "    # -------------------------- #\n",
    "\n",
    "\n",
    "def decision_boundary_poisson(data: np.ndarray, pi: np.ndarray, lam: np.ndarray) -> np.ndarray:\n",
    "    \"\"\"Classify each data point using the Poisson model with MAP decision rule.\n",
    "\n",
    "    Args:\n",
    "        data (np.ndarray): Data points, shape (n_samples, n_neurons).\n",
    "        pi (np.ndarray): Class priors, shape (n_classes,).\n",
    "        lam (np.ndarray): Class-specific Poisson rate parameters, shape (n_classes, n_neurons).\n",
    "\n",
    "    Returns:\n",
    "        np.ndarray: Predicted class labels, shape (n_samples,).\n",
    "    \"\"\"\n",
    "    # ----- YOUR CODE HERE ----- #\n",
    "\n",
    "    raise NotImplementedError\n",
    "\n",
    "    # -------------------------- #\n"
   ]
  },
  {
   "cell_type": "markdown",
   "metadata": {},
   "source": [
    "### Question 3(a-e)\n",
    "\n",
    "**Putting it all together and into action!**\n",
    "\n",
    "HINT: when working with each part, if you want to check your progress before moving on, comment out the other parts to avoid errors. Alternatively, put ``continue`` at the end of the part to skip the rest of the code."
   ]
  },
  {
   "cell_type": "code",
   "execution_count": 17,
   "metadata": {},
   "outputs": [
    {
     "data": {
      "image/png": "[encoded data removed]",
      "text/plain": [
       "<Figure size 800x600 with 1 Axes>"
      ]
     },
     "metadata": {},
     "output_type": "display_data"
    },
    {
     "data": {
      "text/plain": [
       "<Figure size 640x480 with 0 Axes>"
      ]
     },
     "metadata": {},
     "output_type": "display_data"
    },
    {
     "data": {
      "image/png": "[encoded data removed]",
      "text/plain": [
       "<Figure size 800x600 with 1 Axes>"
      ]
     },
     "metadata": {},
     "output_type": "display_data"
    },
    {
     "data": {
      "text/plain": [
       "<Figure size 640x480 with 0 Axes>"
      ]
     },
     "metadata": {},
     "output_type": "display_data"
    },
    {
     "data": {
      "image/png": "[encoded data removed]",
      "text/plain": [
       "<Figure size 800x600 with 1 Axes>"
      ]
     },
     "metadata": {},
     "output_type": "display_data"
    },
    {
     "data": {
      "text/plain": [
       "<Figure size 640x480 with 0 Axes>"
      ]
     },
     "metadata": {},
     "output_type": "display_data"
    }
   ],
   "source": [
    "titles = [\"Gaussian, shared covariance\", \n",
    "          \"Gaussian, class covariance\", \n",
    "          \"Poisson\"]\n",
    "\n",
    "for model_idx in range(3):\n",
    "\n",
    "    # Set up the figure\n",
    "    fig, axs = plt.subplots(1, 1, figsize=(8, 6))\n",
    "    axs.set_xlim((0, 20))\n",
    "    axs.set_ylim((0, 20))\n",
    "\n",
    "    # Part (a): Plot training data\n",
    "    # ----- YOUR CODE HERE ----- #\n",
    "    #\n",
    "    colors = ['r', 'g', 'b']\n",
    "    markers = ['x', '+', 'o']\n",
    "    labels = ['Class 1', 'Class 2', 'Class 3']\n",
    "\n",
    "    for k in range(n_classes):\n",
    "        class_data = data[k]\n",
    "        plt.scatter(class_data[:, 0], class_data[:, 1],\n",
    "                c=colors[k], marker=markers[k], label=labels[k])\n",
    "\n",
    "    plt.xlabel(\"Neuron 1 spike count\")\n",
    "    plt.ylabel(\"Neuron 2 spike count\")\n",
    "    plt.title(\"Simulated Spike Count Data from 2 neurons with class means\")\n",
    "    plt.legend()\n",
    "    # -------------------------- #\n",
    "\n",
    "    # Part (b): Obtain parameter estimates\n",
    "    # ----- NOTHING REQUIRED HERE --- #\n",
    "    # Complete and execute your Q3(b) code block to populate\n",
    "    # the model parameters in mdl_params.\n",
    "    # ------------------------------- #\n",
    "    \n",
    "    mpm = mdl_params[(3, model_idx)]\n",
    "    if isinstance(mpm, gauss_pm):\n",
    "        mdl_type = \"gaussian\"\n",
    "        mu, sigma, pi = mpm.mu, mpm.sigma, mpm.pi\n",
    "    elif isinstance(mpm, poiss_pm):\n",
    "        mdl_type = \"poisson\"\n",
    "        mu = lam = mpm.lam\n",
    "        pi = mpm.pi\n",
    "\n",
    "    # Part (c): Plot class means\n",
    "    # ----- YOUR CODE HERE ----- #\n",
    "    #\n",
    "    \n",
    "    # -------------------------- #\n",
    "\n",
    "    # Part (d): Plot Gaussian density contours\n",
    "    # ----- YOUR CODE HERE ----- #\n",
    "    # First go to code block Q3(d) to finish the function ``gaussian_pdf``,\n",
    "    # Then come back and finish this section.\n",
    "    #\n",
    "    # -------------------------- #\n",
    "\n",
    "    # Part (e): Plot decision boundaries\n",
    "    # ----- YOUR CODE HERE ----- #\n",
    "    # First go to code block Q3(e) to finish the ``decision_boundary`` functions,\n",
    "    # Then come back and finish this section.\n",
    "    #\n",
    "    # -------------------------- #\n",
    "\n",
    "    axs.set_title(titles[model_idx])\n",
    "    plt.show(model_idx + 1)\n",
    "    plt.clf()"
   ]
  },
  {
   "cell_type": "markdown",
   "metadata": {},
   "source": [
    "## Question 4: Real Neural Data (30 pts)\n",
    "\n",
    "### Question 4(a): Estimate Model Parameters"
   ]
  },
  {
   "cell_type": "code",
   "execution_count": null,
   "metadata": {},
   "outputs": [],
   "source": [
    "# Load data\n",
    "\n",
    "train = np.load(\"HW2_data/reach_train.npy\")\n",
    "test = np.load(\"HW2_data/reach_test.npy\")\n",
    "n_classes, n_trials, n_neurons = train.shape"
   ]
  },
  {
   "cell_type": "code",
   "execution_count": null,
   "metadata": {},
   "outputs": [],
   "source": [
    "# Estimate model parameters\n",
    "\n",
    "# ----- YOUR CODE HERE ----- #\n",
    "# HINT: Use your code from Q3.\n",
    "# \n",
    "# -------------------------- #"
   ]
  },
  {
   "cell_type": "code",
   "execution_count": null,
   "metadata": {},
   "outputs": [],
   "source": [
    "# Decision boundary\n",
    "\n",
    "# ----- YOUR CODE HERE ----- #\n",
    "# HINT: Use your code from Q3.\n",
    "acc = NotImplemented # accuracy of model\n",
    "# -------------------------- #\n",
    "\n",
    "print(f\"Model(i) accuracy: {acc:.4f}\")\n",
    "\n",
    "# Save model parameters\n",
    "mdl_params[(4, 0)] = gauss_pm(pi=pi, mu=mu, sigma=sigma, acc=acc, mesg=None)"
   ]
  },
  {
   "cell_type": "markdown",
   "metadata": {},
   "source": [
    "### Question 4(b): Python Warning"
   ]
  },
  {
   "cell_type": "code",
   "execution_count": null,
   "metadata": {},
   "outputs": [],
   "source": [
    "# Estimate model parameters\n",
    "    \n",
    "# ----- YOUR CODE HERE ----- #\n",
    "# HINT: Use your code from Q3.\n",
    "#\n",
    "# -------------------------- #"
   ]
  },
  {
   "cell_type": "code",
   "execution_count": null,
   "metadata": {},
   "outputs": [],
   "source": [
    "# Decision boundary\n",
    "\n",
    "for k in range(n_classes):\n",
    "    try:\n",
    "        # ----- YOUR CODE HERE ----- #\n",
    "        # HINT: you can re-use the code from Q3.\n",
    "        pass\n",
    "        # -------------------------- #\n",
    "    except Exception as e:\n",
    "        print(\"The following error was raised: \" + str(e))"
   ]
  },
  {
   "cell_type": "code",
   "execution_count": null,
   "metadata": {},
   "outputs": [],
   "source": [
    "# What was the cause of the error message?\n",
    "\n",
    "# ----- YOUR CODE HERE ----- #\n",
    "# Put your answer in the string ``ans``.\n",
    "# HINT: To see a more complete error message, you can remove the exception handling (try-except) in the previous code block.\n",
    "ans = NotImplemented\n",
    "# -------------------------- #\n",
    "\n",
    "print(f\"The cause of the error message is: {ans}\")\n",
    "\n",
    "# Save model parameters\n",
    "mdl_params[(4, 1)] = gauss_pm(pi=pi, mu=mu, sigma=sigma, acc=None, mesg=ans)"
   ]
  },
  {
   "cell_type": "markdown",
   "metadata": {},
   "source": [
    "### Question 4(c): Python Warning"
   ]
  },
  {
   "cell_type": "code",
   "execution_count": null,
   "metadata": {},
   "outputs": [],
   "source": [
    "# Calculate model parameters\n",
    "\n",
    "# ----- YOUR CODE HERE ----- #\n",
    "# HINT: Use your code from Q3.\n",
    "#\n",
    "# -------------------------- #"
   ]
  },
  {
   "cell_type": "code",
   "execution_count": null,
   "metadata": {},
   "outputs": [],
   "source": [
    "# Decision boundary\n",
    "\n",
    "for k in range(n_classes):\n",
    "    try:\n",
    "        # ----- YOUR CODE HERE ----- #\n",
    "        # HINT: you can re-use the code from Q3.\n",
    "        pass\n",
    "        # -------------------------- #\n",
    "    except Exception as e:\n",
    "        print(\"The following error was raised: \" + str(e))"
   ]
  },
  {
   "cell_type": "code",
   "execution_count": null,
   "metadata": {},
   "outputs": [],
   "source": [
    "# What was the cause of the error message?\n",
    "\n",
    "# ----- YOUR CODE HERE ----- #\n",
    "# Put your answer in the string ``ans``.\n",
    "# HINT: To see a more complete error message, you can remove the exception handling (try-except) in the previous code block.\n",
    "ans = NotImplemented\n",
    "# -------------------------- #\n",
    "\n",
    "print(f\"The cause of the error message is: {ans}\")\n",
    "\n",
    "# Save model parameters\n",
    "mdl_params[(4, 2)] = poiss_pm(pi=pi, lam=lam, acc=None, mesg=ans)"
   ]
  },
  {
   "cell_type": "markdown",
   "metadata": {},
   "source": [
    "### Question 4(d): Minimum Variance Poisson Model"
   ]
  },
  {
   "cell_type": "code",
   "execution_count": null,
   "metadata": {},
   "outputs": [],
   "source": [
    "def train_min_var_poisson(data: np.ndarray, n_classes: int, n_trials: int, n_neurons: int, min_var=0.01) -> tuple:\n",
    "    \"\"\"Estimate parameters for the modified Poisson model.\n",
    "\n",
    "    Args:\n",
    "        data (np.ndarray): Input data, shape (n_classes, n_trials, n_neurons).\n",
    "        n_classes (int): Number of stimulus classes.\n",
    "        n_trials (int): Number of trials per class.\n",
    "        n_neurons (int): Number of recorded neurons (dimensions).\n",
    "\n",
    "    Returns:\n",
    "        tuple:\n",
    "            pi (np.ndarray): Class priors, shape (n_classes,).\n",
    "            lam (np.ndarray): Class-specific Poisson rate parameters,\n",
    "                              shape (n_classes, n_neurons).\n",
    "    \"\"\"\n",
    "    # ----- YOUR CODE HERE ----- #\n",
    "\n",
    "    raise NotImplementedError\n",
    "    \n",
    "    # -------------------------- #\n",
    "    \n",
    "    # --- SHAPE CHECKS ---\n",
    "    assert pi.shape == (n_classes,), f\"Expected pi shape {(n_classes,)}, got {pi.shape}\"\n",
    "    assert lam.shape == (n_classes, n_neurons), f\"Expected lam shape {(n_classes, n_neurons)}, got {lam.shape}\"\n",
    "\n",
    "    return pi, lam\n",
    "\n",
    "\n",
    "pi, lam_mv = poiss_mod(data, n_classes, n_trials, n_neurons)"
   ]
  },
  {
   "cell_type": "code",
   "execution_count": null,
   "metadata": {},
   "outputs": [],
   "source": [
    "# Decision boundary\n",
    "\n",
    "# ----- YOUR CODE HERE ----- #\n",
    "# HINT: Use your code from Q3.\n",
    "acc = NotImplemented\n",
    "# -------------------------- #\n",
    "\n",
    "print(f\"Model(iv) accuracy: {acc:.4f}\")\n",
    "\n",
    "# Save model parameters\n",
    "mdl_params[(4, 3)] = poiss_pm(pi=pi, lam=lam_mv, acc=acc, mesg=None)"
   ]
  },
  {
   "cell_type": "markdown",
   "metadata": {},
   "source": [
    "## Question 5: EM Algroithm for GMM (65 pts)"
   ]
  },
  {
   "cell_type": "code",
   "execution_count": null,
   "metadata": {},
   "outputs": [],
   "source": [
    "# Load data\n",
    "\n",
    "data = pklload(\"HW2_data/spike_sorting.pkl\")\n",
    "pm1 = data[\"InitParams1\"]\n",
    "pm2 = data[\"InitParams2\"]\n",
    "spikes = data[\"spikes\"]\n",
    "\n",
    "K = pm1[\"mu\"].shape[1] # number of clusters in InitParams1\n",
    "D = spikes.shape[0] # number of timesteps per spike snippet\n",
    "N = spikes.shape[1] # number of spike snippets"
   ]
  },
  {
   "cell_type": "markdown",
   "metadata": {},
   "source": [
    "### Question 5(a)\n",
    "\n",
    "We provide the code to you for this one!"
   ]
  },
  {
   "cell_type": "code",
   "execution_count": null,
   "metadata": {},
   "outputs": [],
   "source": [
    "# Plot all of the spike snippets. We want to use a GMM to spike sort these snippets.\n",
    "\n",
    "f_0 = 30000 # original sampling frequency (Hz)\n",
    "t = 1000 * np.arange(D) / f_0 # Time (ms)\n",
    "\n",
    "plt.figure(figsize=(6, 4))\n",
    "plt.plot(t, spikes, 'k', alpha=0.2)\n",
    "plt.ylim([np.min(spikes), np.max(spikes)])\n",
    "plt.xlabel('Time (ms)')\n",
    "plt.ylabel('Voltage (μV)')\n",
    "plt.title('All spike snippets')\n",
    "plt.tight_layout()"
   ]
  },
  {
   "cell_type": "markdown",
   "metadata": {},
   "source": [
    "### Question 5(b)\n",
    "\n",
    "Write the EM algorithm for the Gaussian Mixture Model, and plot the log likelihood as a function of iteration steps."
   ]
  },
  {
   "cell_type": "code",
   "execution_count": null,
   "metadata": {},
   "outputs": [],
   "source": [
    "def EM_GMM(spikes: np.array, init_params: dict):\n",
    "    \"\"\" EM algorithm for Gaussian mixture model.\n",
    "    \n",
    "    Args:\n",
    "        spikes (np.array): shape of (31, 552)\n",
    "        init_params: dict containing parameter initializations.\n",
    "            has (key, value) pairs:\n",
    "            \"mu\": array of shape (31, 3)\n",
    "            \"sigma\": array of shape (31, 31, 3)\n",
    "            \"pi\": array of shape (1, 3)\n",
    "    \n",
    "    Returns:\n",
    "        mu (np.array): shape of (31, 3)\n",
    "        sigma (np.array): shape of (31, 31, 3)\n",
    "        pi (np.array): shape of (3,)\n",
    "        gam (np.array): shape of (3, 552)\n",
    "        LL (array-like): contains log-likelihood at each iteration step\n",
    "    \"\"\"\n",
    "    # ----- YOUR CODE HERE ----- #\n",
    "    raise NotImplementedError\n",
    "    # -------------------------- #"
   ]
  },
  {
   "cell_type": "code",
   "execution_count": null,
   "metadata": {},
   "outputs": [],
   "source": [
    "mu, sigma, ppi, gam, LL = EM_GMM(spikes, pm1)"
   ]
  },
  {
   "cell_type": "code",
   "execution_count": null,
   "metadata": {},
   "outputs": [],
   "source": [
    "fig, axs = plt.subplots(2, 1, figsize=(4, 4))\n",
    "axs[0].plot(LL, \"b\")\n",
    "axs[1].plot(LL[:10], \"b\")\n",
    "axs[1].set_xlabel(\"steps\")\n",
    "axs[0].set_ylabel(\"log likelihood\")\n",
    "axs[1].set_ylabel(\"log likelihood\")\n",
    "plt.tight_layout()\n",
    "plt.show()"
   ]
  },
  {
   "cell_type": "markdown",
   "metadata": {},
   "source": [
    "What are the $\\pi$ values? Remember, they should sum to 1."
   ]
  },
  {
   "cell_type": "code",
   "execution_count": null,
   "metadata": {},
   "outputs": [],
   "source": [
    "print(f\"The pi values are: {ppi}\")"
   ]
  },
  {
   "cell_type": "markdown",
   "metadata": {},
   "source": [
    "For each cluster (k = 1, 2, 3), create a separate “voltage versus time” plot."
   ]
  },
  {
   "cell_type": "code",
   "execution_count": null,
   "metadata": {},
   "outputs": [],
   "source": [
    "cluster_assignments = np.argmax(gam, axis=0)\n",
    "\n",
    "plt.figure(figsize=(8, 6))\n",
    "for k in range(K):\n",
    "    plt.subplot(K, 1, k + 1)\n",
    "\n",
    "    # ----- YOUR CODE HERE ----- #\n",
    "    pass\n",
    "    # -------------------------- #\n",
    "    \n",
    "    plt.xlabel('Time (seconds)')\n",
    "    plt.ylabel('Voltage (μV)')\n",
    "    plt.tight_layout()\n",
    "    plt.title('Spike snippets assigned to cluster {}'.format(k + 1))\n",
    "plt.show()"
   ]
  },
  {
   "cell_type": "markdown",
   "metadata": {},
   "source": [
    "### Question 5(c)\n",
    "\n",
    "Run the EM algorithm on the same data as in Problem 2, but now initializing the model parameters using InitParams2. This should lead to an error. Why did the error occur?"
   ]
  },
  {
   "cell_type": "code",
   "execution_count": null,
   "metadata": {},
   "outputs": [],
   "source": [
    "try:\n",
    "    # ----- YOUR CODE HERE ----- #\n",
    "    pass\n",
    "    # -------------------------- #\n",
    "except Exception as e:\n",
    "    print(\"The following error was raised: \" + str(e))\n",
    "\n",
    "# ----- YOUR CODE HERE ----- #\n",
    "# Put your answer in the string ``ans``.\n",
    "# HINT: To see a more complete error message, you can remove the exception handling (try-except) in the previous code block.\n",
    "ans = NotImplemented\n",
    "# -------------------------- #\n",
    "\n",
    "print(f\"The cause of the error message is: {ans}\")"
   ]
  },
  {
   "cell_type": "markdown",
   "metadata": {},
   "source": [
    "### Question 6 (administrative)\n",
    "\n",
    "About how many hours did you spend on this homework? There is no right or wrong answer :-)"
   ]
  }
 ],
 "metadata": {
  "kernelspec": {
   "display_name": "cse599n",
   "language": "python",
   "name": "python3"
  },
  "language_info": {
   "codemirror_mode": {
    "name": "ipython",
    "version": 3
   },
   "file_extension": ".py",
   "mimetype": "text/x-python",
   "name": "python",
   "nbconvert_exporter": "python",
   "pygments_lexer": "ipython3",
   "version": "3.8.20"
  }
 },
 "nbformat": 4,
 "nbformat_minor": 2
}
