{
 "cells": [
  {
   "cell_type": "markdown",
   "metadata": {},
   "source": [
    "# Homework 4"
   ]
  },
  {
   "cell_type": "code",
   "execution_count": 1,
   "metadata": {},
   "outputs": [],
   "source": [
    "import numpy as np\n",
    "import matplotlib.pyplot as plt"
   ]
  },
  {
   "cell_type": "markdown",
   "metadata": {},
   "source": [
    "Run the following cell to load in the data (make sure that you set the file paths for the data files correctly). Then, complete each section under\n",
    "1. Data Preprocessing,\n",
    "2. Training Phase,\n",
    "3. Testing Phase, and\n",
    "4. Performance Evaluation."
   ]
  },
  {
   "cell_type": "code",
   "execution_count": 2,
   "metadata": {},
   "outputs": [],
   "source": [
    "# Load data\n",
    "train_trial = np.load(\"./data/hw4_train_trial.npy\", allow_pickle=True)\n",
    "test_trial = np.load(\"./data/hw4_test_trial.npy\", allow_pickle=True)\n",
    "\n",
    "NUM_TRAIN, NUM_DIRECTIONS = train_trial.shape\n",
    "NUM_TEST = test_trial.shape[0]"
   ]
  },
  {
   "cell_type": "markdown",
   "metadata": {},
   "source": [
    "## Part 1: Data Preprocessing"
   ]
  },
  {
   "cell_type": "code",
   "execution_count": 3,
   "metadata": {},
   "outputs": [],
   "source": [
    "def preprocess_spikes_and_states(data: np.array):\n",
    "    \"\"\"\n",
    "    Preprocesses train or test data. \n",
    "\n",
    "    Args:\n",
    "        data: Either train_trial or test_trial. shape = (num_trials, num_directions). \n",
    "    Returns:\n",
    "        spike_counts (np.array): spike counts in non-overlapping time bins.\n",
    "        arm_states (np.array): 4-dim arm states.\n",
    "    \"\"\"\n",
    "    # We provide empty numpy arrays as one potential data structure to store the spike counts and\n",
    "    # arm states in. Here, for spike_counts, we can store a nested list of shape (97 x T) in each entry,\n",
    "    # where T is the number of 20 ms time bins in the corresponding trial.\n",
    "    # You are welcome to change these structures if you prefer a different implementation.\n",
    "    spike_counts = np.empty(data.shape, dtype=list)\n",
    "    arm_states = np.empty(data.shape, dtype=np.ndarray)\n",
    "\n",
    "    # ----- YOUR CODE HERE ----- #\n",
    "    for n in range(NUM_TRAIN):\n",
    "        for k in range(NUM_DIRECTIONS):\n",
    "            trial_data = train_trial[n, k]\n",
    "            spikes = trial_data['spikes']\n",
    "            hand_pos = trial_data['handPos']\n",
    "\n",
    "            bins = spikes.shape[1] // 20\n",
    "\n",
    "            binned_spikes = np.array([\n",
    "                np.sum(spikes[:, i*20:(i+1)*20], axis=1)\n",
    "                for i in range(bins)\n",
    "            ]).T\n",
    "            sampled_pos = hand_pos[:, 19::20][:, :bins]\n",
    "\n",
    "            vel = np.diff(sampled_pos, axis=1, prepend=sampled_pos[:, [0]]) \n",
    "            vel_mps = vel * 50 / 1000\n",
    "\n",
    "            arm_state = np.vstack((sampled_pos, vel_mps))\n",
    "\n",
    "            spike_counts[n, k] = binned_spikes\n",
    "            arm_states[n, k] = arm_state\n",
    "\n",
    "    return spike_counts, arm_states\n",
    "    # -------------------------- #"
   ]
  },
  {
   "cell_type": "code",
   "execution_count": 4,
   "metadata": {},
   "outputs": [],
   "source": [
    "# save preprocessed data into variables\n",
    "\n",
    "train_spike_counts, train_arm_states = preprocess_spikes_and_states(train_trial)\n",
    "test_spike_counts, test_arm_states = preprocess_spikes_and_states(test_trial)"
   ]
  },
  {
   "cell_type": "markdown",
   "metadata": {},
   "source": [
    "## Part 2: Training Phase"
   ]
  },
  {
   "cell_type": "code",
   "execution_count": null,
   "metadata": {},
   "outputs": [],
   "source": [
    "def fit_parameters(train_spike_counts: np.array, train_arm_states: np.array):\n",
    "    \"\"\"\n",
    "    Fit the A, Pi, V, and C parameters.\n",
    "    \n",
    "    Args:\n",
    "        train_spike_counts (np.array): spike counts in non-overlapping time bins for training data.\n",
    "        train_arm_states (np.array): 4-dim arm states for training data.\n",
    "    Returns:\n",
    "        Model parameters {A, Pi, V, C}.\n",
    "    \"\"\"\n",
    "    # ----- YOUR CODE HERE ----- #\n",
    "    raise NotImplementedError\n",
    "    # -------------------------- #"
   ]
  },
  {
   "cell_type": "code",
   "execution_count": null,
   "metadata": {},
   "outputs": [],
   "source": [
    "def fit_qr_parameters(train_spike_counts: np.array, train_arm_states: np.array, A, C):\n",
    "    \"\"\"\n",
    "    Fit the Q and R parameters.\n",
    "    \n",
    "    Args:\n",
    "        train_spike_counts (np.array): spike counts in non-overlapping time bins for training data.\n",
    "        train_arm_states (np.array): 4-dim arm states for training data.\n",
    "        A (np.array or other): model parameter A from fit_parameter() function.\n",
    "        C (np.array or other): model parameter C from fit_parameter() function.\n",
    "    Returns:\n",
    "        Model parameters {Q, R}.\n",
    "    \"\"\"\n",
    "    # ----- YOUR CODE HERE ----- #\n",
    "    raise NotImplementedError\n",
    "    # -------------------------- #"
   ]
  },
  {
   "cell_type": "code",
   "execution_count": null,
   "metadata": {},
   "outputs": [],
   "source": [
    "A, Pi, V, C = fit_parameters(train_spike_counts, train_arm_states)\n",
    "Q, R = fit_qr_parameters(train_spike_counts, train_arm_states, A, C)\n",
    "\n",
    "print(f\"A: {A}\")\n",
    "print(f\"Q: {Q}\")"
   ]
  },
  {
   "cell_type": "markdown",
   "metadata": {},
   "source": [
    "## Part 3 & 4: Test Phase and Visualization"
   ]
  },
  {
   "cell_type": "code",
   "execution_count": null,
   "metadata": {},
   "outputs": [],
   "source": [
    "def decode_arm_trajectories(test_spike_counts, test_arm_states, A, Pi, V, C):\n",
    "    \"\"\"\n",
    "    Use model parameters previously found and apply Kalman filter to decode an arm\n",
    "    trajectory for each test trial.\n",
    "\n",
    "    Args:\n",
    "        test_spike_counts (np.array): spike counts in non-overlapping time bins for test data.\n",
    "        test_arm_states (np.array): 4-dim arm states for test data.\n",
    "        A (np.array or other): model parameter A from fit_parameter() function.\n",
    "        Pi (np.array or other): model parameter Pi from fit_parameter() function.\n",
    "        V (np.array or other): model parameter V from fit_parameter() function.\n",
    "        C (np.array or other): model parameter C from fit_parameter() function.\n",
    "    Returns:\n",
    "        test_est_state_mean (np.array): contains decoded mean position estimates.\n",
    "        test_est_state_cov (np.array): contains covaraince matrices for each test trial prediction.\n",
    "    \"\"\"\n",
    "    # We provide empty numpy arrays as one potential data structure to store the decoded mean position \n",
    "    # estimates and covariance matrices.\n",
    "    # You are welcome to change these structures if you prefer a different implementation.\n",
    "    test_est_state_mean = np.empty(test_spike_counts.shape, dtype=list)\n",
    "    test_est_state_cov = np.empty(test_spike_counts.shape, dtype=list)\n",
    "\n",
    "    # ----- YOUR CODE HERE ----- #\n",
    "    raise NotImplementedError\n",
    "    # -------------------------- #"
   ]
  },
  {
   "cell_type": "code",
   "execution_count": null,
   "metadata": {},
   "outputs": [],
   "source": [
    "test_est_state_mean, test_est_state_cov = decode_arm_trajectories(\n",
    "    test_spike_counts,\n",
    "    test_arm_states,\n",
    "    A,\n",
    "    Pi,\n",
    "    V,\n",
    "    C\n",
    ")"
   ]
  },
  {
   "cell_type": "code",
   "execution_count": 2,
   "metadata": {},
   "outputs": [],
   "source": [
    "def plot_confidence_ellipse(M, V):\n",
    "    \"\"\"\n",
    "    Plot a one standard-deviation ellipse for a N-dimensional Gaussian distribution.\n",
    "    Arguments:\n",
    "        M: mean of the Gaussian (N x 1) \n",
    "        V: Covariance matrix of the Gaussian (N x N)\n",
    "\n",
    "    We've provided this function for you. Feel free to use it as is to help plot \n",
    "    the one standard-deviation confidence ellipse for each position estimate, modify it\n",
    "    to your liking, or write your own function.\n",
    "\n",
    "    Code adapted from EM_GM.m by Patrick P. C. Tsui.\n",
    "    \"\"\"\n",
    "    eigenvals, eigenvecs = np.linalg.eig(V)\n",
    "    d = len(M)\n",
    "    if not np.any(V): # if V is array of all zeros\n",
    "        V[:, :] = np.ones((d,d))  * np.finfo(float).eps\n",
    "    inv_V = np.linalg.inv(V)\n",
    "\n",
    "    # find the larger projection\n",
    "    P = np.array([[1,0], [0,0]]) # X-axis projection operator\n",
    "    P1 = P @ np.reshape((2 * np.sqrt(eigenvals[0]) * eigenvecs[:,0]), (2,1))\n",
    "    P2 = P @ np.reshape((2 * np.sqrt(eigenvals[1]) * eigenvecs[:,1]), (2,1))\n",
    "    if (np.all(np.abs(P1) >= np.abs(P2))):\n",
    "        P_len = P1[0]\n",
    "    else:\n",
    "        P_len = P2[0]\n",
    "    \n",
    "    count = 0\n",
    "    step = 0.001 * P_len\n",
    "    contour_1 = np.zeros((2001,2))\n",
    "    contour_2 = np.zeros((2001,2))\n",
    "\n",
    "    for x in np.arange(-P_len, P_len + step, step):\n",
    "        a = inv_V[1,1]\n",
    "        b = x * (inv_V[0, 1] + inv_V[1, 0])\n",
    "        c = x**2 * inv_V[0,0] - 1\n",
    "        disc = b**2 - 4*a*c \n",
    "\n",
    "        if disc >= 0:\n",
    "            root_1 = (-b + np.sqrt(disc)) / (2*a)\n",
    "            root_2 = (-b - np.sqrt(disc)) / (2*a)\n",
    "            if np.isreal(root_1):\n",
    "                contour_1[count, :] = [x, root_1] + M.T\n",
    "                contour_2[count, :] = [x, root_2] + M.T\n",
    "                count += 1\n",
    "    \n",
    "    contour_1 = contour_1[0:count-1, :]\n",
    "    contour_2 = np.vstack((contour_1[0], contour_2[0:count, :], contour_1[count-2, :]))\n",
    "\n",
    "    plt.plot(M[0], M[1], 'r+')\n",
    "    plt.plot(contour_1[:,0], contour_1[:,1], 'b-', linewidth=0.5)\n",
    "    plt.plot(contour_2[:,0], contour_2[:,1], 'b-', linewidth=0.5)"
   ]
  },
  {
   "cell_type": "code",
   "execution_count": null,
   "metadata": {},
   "outputs": [],
   "source": [
    "def plot_trials(selected_trials: list, test_est_state_mean: np.array, test_est_state_cov: np.array, test_arm_states: np.array):\n",
    "    \"\"\"\n",
    "    Creates a 1 x 3 plot figure for each of the trials in selected_trials.\n",
    "    The subplots include \n",
    "        (1) the mean position estimate, the one-standard-deviation confidence ellipse corresponding \n",
    "        to the uncertainty of each position estimate, and the actual arm trajectory \n",
    "            - (x-axis horizontal position, y-axis vertical position);\n",
    "        (2) the decoded mean trajectory in the horizontal direction, the one-standard-deviation\n",
    "        confidence intervals, and the actual arm trajectory \n",
    "            - (x-axis time, y-axis horizontal position);\n",
    "        (3) the decoded mean trajectory in the vertical direction, the one-standard-deviation\n",
    "        confidence intervals, and the actual arm trajectory \n",
    "            - (x-axis time, y-axis vertical position)\n",
    "\n",
    "    Argumentss:\n",
    "        selected_trials (list): list of tuples indicating which trials to plot figures for.\n",
    "        test_est_state_mean (np.array): decoded mean position estimates for test trials.\n",
    "        test_est_state_cov (np.array): covaraince matrices for each test trial prediction.\n",
    "        test_arm_states (np.array): 4-dim arm states for test data.\n",
    "\n",
    "    We've provided a basic outline for one way you can structure this function to achieve the\n",
    "    1 x 3 plot figure. You are welcome to use this outline or to change it for your implementation.\n",
    "    \"\"\"\n",
    "    for trial, direction in selected_trials:\n",
    "        # ----- YOUR CODE HERE FOR ANY VARIABLES ----- #\n",
    "\n",
    "        plt.subplot(1,3,1)\n",
    "        plt.xlabel('Horz-Pos')\n",
    "        plt.ylabel('Vert-Pos')\n",
    "        # ----- YOUR CODE HERE FOR SUBPLOT (1) ----- #\n",
    "\n",
    "        plt.subplot(1,3,2)\n",
    "        plt.xlabel('Time')\n",
    "        plt.ylabel('Horz-Pos')\n",
    "        # ----- YOUR CODE HERE FOR SUBPLOT (2) ----- #\n",
    "        \n",
    "        plt.subplot(1,3,3)\n",
    "        plt.xlabel('Time')\n",
    "        plt.ylabel('Vert-Pos')\n",
    "        # ----- YOUR CODE HERE FOR SUBPLOT (3) ----- #\n",
    "\n",
    "        # ----- YOUR CODE HERE FOR ANY ADDITIONAL WORK OR PLOT STYLING ----- #\n",
    "\n",
    "        plt.tight_layout()\n",
    "        plt.show()"
   ]
  },
  {
   "cell_type": "code",
   "execution_count": null,
   "metadata": {},
   "outputs": [],
   "source": [
    "selected_trials = [(0,0), (0,3)]\n",
    "plot_trials(selected_trials, test_est_state_mean, test_est_state_cov, test_arm_states)"
   ]
  },
  {
   "cell_type": "markdown",
   "metadata": {},
   "source": [
    "## Part 5: Performance Evaluation"
   ]
  },
  {
   "cell_type": "code",
   "execution_count": null,
   "metadata": {},
   "outputs": [],
   "source": [
    "def calculate_distance(test_arm_states: np.array, test_est_state_mean: np.array):\n",
    "    \"\"\"\n",
    "    Calculates the mean distance (in mm) between the decoded position and actual position\n",
    "    across the timepoints of all test trials.\n",
    "\n",
    "    Args: \n",
    "        test_arm_states (np.array): 4-dim arm states for test data.\n",
    "        test_est_state_mean (np.array): decoded mean position estimates for test trials.\n",
    "    Returns:\n",
    "        dist (float): mean distance.\n",
    "    \"\"\"\n",
    "    # ----- YOUR CODE HERE ----- #\n",
    "    raise NotImplementedError\n",
    "    # -------------------------- #"
   ]
  },
  {
   "cell_type": "code",
   "execution_count": null,
   "metadata": {},
   "outputs": [],
   "source": [
    "dist = calculate_distance(test_arm_states, test_est_state_mean)\n",
    "print(f\"Mean distance error: {dist:.4f} mm\")"
   ]
  },
  {
   "cell_type": "markdown",
   "metadata": {},
   "source": [
    "### Administrative (2 pts)\n",
    "\n",
    "About how many hours did you spend on this homework? There is no right or wrong answer :-)"
   ]
  },
  {
   "cell_type": "markdown",
   "metadata": {},
   "source": []
  }
 ],
 "metadata": {
  "kernelspec": {
   "display_name": "cse599n",
   "language": "python",
   "name": "python3"
  },
  "language_info": {
   "codemirror_mode": {
    "name": "ipython",
    "version": 3
   },
   "file_extension": ".py",
   "mimetype": "text/x-python",
   "name": "python",
   "nbconvert_exporter": "python",
   "pygments_lexer": "ipython3",
   "version": "3.8.20"
  }
 },
 "nbformat": 4,
 "nbformat_minor": 2
}
